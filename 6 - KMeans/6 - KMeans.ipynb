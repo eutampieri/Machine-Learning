{
 "cells": [
  {
   "cell_type": "markdown",
   "metadata": {},
   "source": [
    "# Contenuti\n",
    "- [Import](#Import)\n",
    "- [Dataset casuale](#Dataset-casuale)\n",
    "- [Esempio con scikit-learn](#Esempio-con-scikit-learn)\n",
    "- [Implementazione K-means](#Implementazione-K-means)\n",
    "    - [Selezione casuale dei centroidi iniziali](#Selezione-casuale-dei-centroidi-iniziali)\n",
    "    - [Assegnazione dei pattern](#Assegnazione-dei-pattern)\n",
    "    - [Aggiornamento dei centroidi](#Aggiornamento-dei-centroidi)\n",
    "    - [K-means](#K-means)\n",
    "    - [Esecuzione](#Esecuzione)\n",
    "- [Trovare il numero di profumi presenti](#Trovare-il-numero-di-profumi-presenti)\n",
    "    - [Dataset](#Dataset)\n",
    "    - [Esercizio](#Esercizio)"
   ]
  },
  {
   "cell_type": "markdown",
   "metadata": {},
   "source": [
    "# Esercitazione 6\n",
    "Nell'esercitazione odierna si implementerà l'algoritmo *K-means*. Verrà chiesto di implementarne le parti fondamentali, verificarne il corretto funzionamento e infine di utilizzare l'algoritmo sviluppato per risolvere un problema di clustering."
   ]
  },
  {
   "cell_type": "markdown",
   "metadata": {},
   "source": [
    "# Import\n",
    "Per prima cosa è necessario eseguire l'import delle librerie utilizzate durante l'esecitazione."
   ]
  },
  {
   "cell_type": "code",
   "execution_count": null,
   "metadata": {
    "scrolled": true
   },
   "outputs": [],
   "source": [
    "%matplotlib inline\n",
    "########\n",
    "# Nota: se appare un warning relativo a un memory leak su Windows,\n",
    "# decommentare le seguenti 2 righe di codice:\n",
    "#import os\n",
    "#os.environ['OMP_NUM_THREADS'] = '2'\n",
    "########\n",
    "\n",
    "import numpy as np\n",
    "import matplotlib.pyplot as plt\n",
    "import random\n",
    "\n",
    "import ml_utilities\n",
    "import ml_visualization"
   ]
  },
  {
   "cell_type": "markdown",
   "metadata": {},
   "source": [
    "# Dataset casuale\n",
    "Durante la fase di implementazione del *K-means* verrà utilizzato un dataset di esempio generato casualmente per poter verificare in maniera semplice il corretto funzionamento dell'algoritmo.\n",
    "\n",
    "Scikit-learn mette a disposizione la funzione [**make_blobs(...)**](https://scikit-learn.org/stable/modules/generated/sklearn.datasets.make_blobs.html) per generare raggruppamenti di punti con distribuzione gaussiana. Variando i parametri *n_samples* (numero totale di punti generati), *centers* (numero di raggruppamenti) e *random_state* (seme iniziale per la generazione casuale) è possibile ottenere dataset differenti."
   ]
  },
  {
   "cell_type": "code",
   "execution_count": null,
   "metadata": {},
   "outputs": [],
   "source": [
    "# Generazione di un dataset casuale\n",
    "from sklearn.datasets import make_blobs\n",
    "\n",
    "data, _ = make_blobs(n_samples=100, centers=5, random_state=1234)\n",
    "\n",
    "plt.figure(num=0, dpi=96, figsize=(8, 6))\n",
    "plt.scatter(data[:,0], data[:,1], c='grey', marker='o', s=16)\n",
    "plt.show()"
   ]
  },
  {
   "cell_type": "markdown",
   "metadata": {},
   "source": [
    "# Esempio con scikit-learn\n",
    "La libreria Scikit-learn fornisce un'implementazione dei più importanti algoritmi di clustering. Per maggiori informazioni si rimanda alla [documentazione ufficiale](https://scikit-learn.org/stable/modules/clustering.html).\n",
    "\n",
    "Di seguito un esempio di come utilizzare l'algoritmo *K-means* di Scikit-learn sul dataset appena generato."
   ]
  },
  {
   "cell_type": "code",
   "execution_count": null,
   "metadata": {},
   "outputs": [],
   "source": [
    "# Import della libreria\n",
    "from sklearn.cluster import KMeans\n",
    "\n",
    "# Definizione del numero di cluster attesi\n",
    "n_clusters = 5\n",
    "\n",
    "# Creazione dell'istanza di KMeans e addestramento\n",
    "kmeans = KMeans(n_clusters=n_clusters, random_state=1234, n_init=1)\n",
    "kmeans.fit(data)\n",
    "\n",
    "# Visualizzazione dei risultati\n",
    "plt.figure(num=0, dpi=96, figsize=(8, 6))\n",
    "ml_visualization.draw_clustering_decision_boundaries(data, kmeans.labels_, kmeans.cluster_centers_, step=0.05)\n",
    "plt.show()"
   ]
  },
  {
   "cell_type": "markdown",
   "metadata": {},
   "source": [
    "È possibile ottenere i centroidi dei vari cluster utilizzando l'attributo **cluster\\_centers\\_** come mostrato nell'esempio seguente:"
   ]
  },
  {
   "cell_type": "code",
   "execution_count": null,
   "metadata": {
    "scrolled": true
   },
   "outputs": [],
   "source": [
    "print('Centroidi ottenuti:\\n', kmeans.cluster_centers_)"
   ]
  },
  {
   "cell_type": "markdown",
   "metadata": {},
   "source": [
    "Come per i classificatori, in Scikit-learn gli algoritmi di clustering mettono a disposizione il metodo **.predict(...)** che permette di ottenere l'indice del cluster a cui un pattern viene assegnato."
   ]
  },
  {
   "cell_type": "code",
   "execution_count": null,
   "metadata": {
    "scrolled": true
   },
   "outputs": [],
   "source": [
    "# Esempio di uso della funzione predict\n",
    "print('Cluster predetti:\\n', kmeans.predict([[-2.5, 0.0], [2.5, -4.0], [0.0, 5.0]]))"
   ]
  },
  {
   "cell_type": "markdown",
   "metadata": {},
   "source": [
    "# Implementazione K-means\n",
    "Per poter sviluppare la nostra versione dell'algoritmo si dovranno implementare le seguenti funzioni:\n",
    "- **assign_patterns_to_clusters(...)** che restituisca un vettore contenente l’indice del cluster a cui è stato assegnato ogni pattern del dataset.\n",
    "- **compute_centroids(...)** che dovrà restituire i nuovi centroidi calcolati come media dei pattern appartenenti ad ogni cluster.\n",
    "\n",
    "Queste funzioni verranno successivamente richiamate all'interno della funzione **kmeans_execution(...)** che implementa l'intero *K-means*.\n",
    "\n",
    "## Selezione casuale dei centroidi iniziali\n",
    "Il primo passo del *K-means* richiede che vengano scelti casualmente $s$ (numero di cluster) pattern da utilizzare come centroidi iniziali.\n",
    "\n",
    "La funzione **select_random_centroids(...)** restituisce $s$ centroidi scelti casualmente dai pattern di *data*. Sia il parametro *data* che il valore di ritorno sono **ndarray** bidimensionali in cui i pattern sono memorizzati per riga.\n",
    "\n",
    "Nota: il parametro *seed* viene utilizzato per l’inizializzazione del generatore di numeri casuali. Per ulteriori dettagli si faccia riferimento alla documentazione della libreria [**random**](https://docs.python.org/3.6/library/random.html). A parità di *seed* il risultato della funzione non cambia in esecuzioni successive. La funzione **random.sample(...)** permette di selezionare un sottoinsieme di elementi da una lista (risolve il problema di selezionare più volte lo stesso elemento)."
   ]
  },
  {
   "cell_type": "code",
   "execution_count": null,
   "metadata": {
    "scrolled": true
   },
   "outputs": [],
   "source": [
    "# La funzione restituisce s centroidi scelti casualmente tra i pattern di data\n",
    "\n",
    "# data: ndarray bidimensionale in cui i pattern sono memorizzati per riga. Shape = (n_patterns, 2)\n",
    "# s: numero intero, indica il numero di centroidi da selezionare\n",
    "# seed: numero intero, utilizzato per inizializzare il generatore di numeri casuali\n",
    "\n",
    "# Risultato: ndarray bidimensionale in cui i centroidi sono memorizzati per riga. Shape = (s, 2)\n",
    "\n",
    "def select_random_centroids(data, s, seed):\n",
    "    random.seed(seed)\n",
    "    centroid_indices = random.sample(range(data.shape[0]), s)\n",
    "    return data[centroid_indices]"
   ]
  },
  {
   "cell_type": "markdown",
   "metadata": {},
   "source": [
    "## Assegnazione dei pattern\n",
    "Ad ogni iterazione i pattern del dataset devono essere assegnati al cluster per cui è minima la distanza dal corrispondente centroide.\n",
    "\n",
    "Si implementi la funzione **assign_patterns_to_clusters(...)** che restituisca un **ndarray** monodimensionale (*labels*) contenente l’indice del cluster a cui è stato assegnato ogni pattern. Per individuare il centroide più vicino ad ogni pattern è possibile utilizzare la funzione **compute_square_euclidean_distance(...)** già disponibile nella libreria ml_utilities.\n",
    "\n",
    "Inoltre si dovrà calcolare e restituire la somma dei quadrati delle distanze di tutti i pattern $\\boldsymbol{x}$ dai centroidi a cui sono stati assegnati (*sum_square_distances*), indicata con $J_e$:\n",
    "\n",
    "$\\Large{J_e = \\sum_{i=1...s} \\sum_{\\boldsymbol{x} \\in C_i} \\lVert \\boldsymbol{x} - \\boldsymbol{\\overline{x}_i} \\rVert^2}$\n",
    "\n",
    "$\\Large{\\boldsymbol{\\overline{x}_i} = \\frac{1}{n_i} \\sum_{\\boldsymbol{x} \\in C_i} \\boldsymbol{x}}$\n",
    "\n",
    "dove $C_i$ è l'i-esimo cluster, $n_i$ il numero di pattern che contiene e $\\boldsymbol{\\overline{x}_i}$ il suo centroide (media)."
   ]
  },
  {
   "cell_type": "code",
   "execution_count": null,
   "metadata": {
    "scrolled": true
   },
   "outputs": [],
   "source": [
    "# Esercizio 1: si completi il codice della funzione assign_patterns_to_clusters\n",
    "# La funzione deve restituire un vettore contenente l'indice del cluster a cui\n",
    "# è stato assegnato ogni pattern\n",
    "\n",
    "# data: ndarray bidimensionale in cui i pattern sono memorizzati per riga. Shape = (n_patterns, 2)\n",
    "# centroids: ndarray bidimensionale in cui i centroidi sono memorizzati per riga. Shape = (s, 2)\n",
    "\n",
    "# Risultato 1: ndarray monodimensionale in cui sono memorizzate le etichette dei pattern. Shape = (n_patterns,)\n",
    "# Risultato 2: valore numerico, somma dei quadrati delle distanze dei pattern dai centroidi a cui sono assegnati\n",
    "\n",
    "def assign_patterns_to_clusters(data, centroids):\n",
    "    labels = np.empty((data.shape[0]))\n",
    "    \n",
    "    # ...\n",
    "    \n",
    "    # sum_square_distances = ...\n",
    "    \n",
    "    return labels, sum_square_distances"
   ]
  },
  {
   "cell_type": "markdown",
   "metadata": {},
   "source": [
    "## Aggiornamento dei centroidi\n",
    "Una volta assegnati i pattern ai rispettivi cluster è necessario calcolare i nuovi centroidi come media dei pattern appartenenti ad ogni cluster.\n",
    "\n",
    "Si implementi la funzione **compute_centroids(...)** in modo tale che questa restituisca un **ndarray** bidimensionale (*centroids*) contenente i nuovi centroidi (memorizzati per riga)."
   ]
  },
  {
   "cell_type": "code",
   "execution_count": null,
   "metadata": {
    "scrolled": true
   },
   "outputs": [],
   "source": [
    "# Esercizio 2: si completi il codice della funzione compute_centroids\n",
    "# La funzione deve restituire i nuovi centroidi calcolati come media\n",
    "# dei pattern appartenenti ad ogni cluster\n",
    "\n",
    "# data: ndarray bidimensionale in cui i pattern sono memorizzati per riga. Shape = (n_patterns, 2)\n",
    "# labels: ndarray monodimensionale in cui sono memorizzate le etichette dei pattern. Shape = (n_patterns,)\n",
    "# s: numero intero, indica il numero di centroidi da selezionare\n",
    "\n",
    "# Risultato: ndarray bidimensionale in cui i centroidi sono memorizzati per riga. Shape = (s, 2)\n",
    "\n",
    "def compute_centroids(data, labels, s):\n",
    "    centroids = np.zeros((s, data.shape[1]))\n",
    "    \n",
    "    # ...\n",
    "    \n",
    "    return centroids"
   ]
  },
  {
   "cell_type": "markdown",
   "metadata": {},
   "source": [
    "## K-means\n",
    "Le parti appena implementate costituiscono i blocchi fondamentali su cui si basa l'algoritmo *K-means*. La cella seguente definisce la funzione **kmeans_execution(...)** che, utilizzando le funzioni appena sviluppate, esegue l'algoritmo restituendo:\n",
    "\n",
    "- l'indice del cluster a cui è stato assegnato ogni pattern di input (*labels*);\n",
    "- la lista dei centroidi di ogni cluster (*centroids*);\n",
    "- la somma dei quadrati delle distanze (*sum_square_distances*);\n",
    "- il numero di iterazioni eseguite (*iteration_count*)."
   ]
  },
  {
   "cell_type": "code",
   "execution_count": null,
   "metadata": {
    "scrolled": true
   },
   "outputs": [],
   "source": [
    "def kmeans_execution(data, s, max_iteration_count, seed):\n",
    "    centroids = select_random_centroids(data, s, seed)\n",
    "    iteration_count = 0\n",
    "    modified = True\n",
    "    while modified and iteration_count < max_iteration_count:\n",
    "        labels, sum_square_distances = assign_patterns_to_clusters(data, centroids)\n",
    "        new_centroids = compute_centroids(data, labels, s)\n",
    "        modified = not np.array_equal(centroids, new_centroids)\n",
    "        centroids = new_centroids\n",
    "        iteration_count += 1\n",
    "\n",
    "    return labels, centroids, sum_square_distances, iteration_count"
   ]
  },
  {
   "cell_type": "markdown",
   "metadata": {},
   "source": [
    "## Esecuzione\n",
    "Il codice contenuto nella cella seguente richiama la funzione **kmeans_execution(...)** sul dataset generato in precedenza e ne visualizza i risultati.\n",
    "\n",
    "Si verifichi il funzionamento dell’algoritmo al variare del numero di cluster ($s$), del seme per la scelta casuale dei centroidi iniziali (*seed*) e del massimo numero di iterazioni consentite (*max_iteration_count*)."
   ]
  },
  {
   "cell_type": "code",
   "execution_count": null,
   "metadata": {},
   "outputs": [],
   "source": [
    "s = ...\n",
    "seed = ...\n",
    "max_iteration_count = ...\n",
    "\n",
    "labels, centroids, sum_square_distances, iteration_count = kmeans_execution(data, s, max_iteration_count, seed)\n",
    "\n",
    "print('Somma quadrati distanze: %0.3f' % sum_square_distances)\n",
    "print('Numero di iterazioni:', iteration_count)\n",
    "\n",
    "plt.figure(num=0, dpi=96, figsize=(8, 6))\n",
    "ml_visualization.draw_clustering_decision_boundaries(data, labels, centroids, step=0.05)\n",
    "plt.show()"
   ]
  },
  {
   "cell_type": "markdown",
   "metadata": {},
   "source": [
    "# Trovare il numero di profumi presenti\n",
    "Si utilizzi l’algoritmo *K-means* appena implementato per stimare il numero corretto di raggruppamenti (cluster) presenti in un dataset non etichettato.\n",
    "\n",
    "## Dataset\n",
    "Il dataset \"Profumi.txt\" contiene un insieme di pattern bidimensionali non etichettati acquisiti analizzando con due sensori di odore un insieme di profumi. Di seguito è riportata la procedura per il caricamento del dataset:"
   ]
  },
  {
   "cell_type": "code",
   "execution_count": null,
   "metadata": {},
   "outputs": [],
   "source": [
    "dataset_file_path = 'DBs/Profumi/Profumi.txt'\n",
    "data = np.loadtxt(dataset_file_path)\n",
    "\n",
    "print('Shape del dataset:', data.shape)\n",
    "\n",
    "plt.figure(num=0, dpi=96, figsize=(8, 6))\n",
    "plt.scatter(data[:,0], data[:,1], c='gray', marker='o', s=16)\n",
    "plt.show()"
   ]
  },
  {
   "cell_type": "markdown",
   "metadata": {},
   "source": [
    "## Esercizio\n",
    "\n",
    "Stimare il numero di profumi analizzati utilizzando l’algoritmo *K-means*. \n",
    "\n",
    "Si completi il codice riportato nella cella seguente al fine di eseguire l’algoritmo *K-means* per i diversi valori del numero di cluster ($s$) nell’intervallo \\[*s_min*, *s_max*\\]. Per evitare che il risultato ottenuto possa essere condizionato da una scelta errata dei centroidi iniziali, consigliamo di eseguire l'algoritmo più volte (*execution_count*) per ogni valore di $s$. Al fine di evitare di ottenere risultati identici, a ogni esecuzione è necessario partire da un insieme di centroidi iniziali differente. Pertanto, il codice genera una matrice di seed diversi (*seeds*) da utilizzare nelle diverse esecuzioni di *K-means*.\n",
    "\n",
    "Al termine dell’intera esecuzione viene mostrato il grafico del valore minimo di $J_e$ (su *execution_count* esecuzioni per ogni $s$) al variare di $s$. Al fine di rendere possibile la visualizzazione di questi valori è necessario memorizzare nella variabile $y$ il valore minimo di $J_e$ trovato per ogni $s$ (su tutte le esecuzioni - *execution_count*).\n",
    "\n",
    "Dovendo eseguire il *K-means* un elevato numero di volte, sottenutai consiglia di utilizzare la versione di Scikit-learn perchè più efficiente rispetto alla versione appena implementata. La classe [**KMeans**](https://scikit-learn.org/stable/modules/generated/sklearn.cluster.KMeans.html#sklearn.cluster.KMeans) mette a disposizione gli attributi **inertia\\_** e **n\\_iter\\_** che restituiscono rispettivamente il valore $J_e$ della soluzione ottenuta e il numero di iterazioni eseguite.\n",
    "\n",
    "Nota: per questi esperimenti, considerato che l'esecuzione ripetuta di KMeans è già controllata dal ciclo su *execution_count*, è conveniente passare a *KMeans* il parametro `n_init=1` (si veda [la documentazione](https://scikit-learn.org/stable/modules/generated/sklearn.cluster.KMeans.html#sklearn.cluster.KMeans))."
   ]
  },
  {
   "cell_type": "code",
   "execution_count": null,
   "metadata": {},
   "outputs": [],
   "source": [
    "# Esercizio 3: si individui il numero di cluster ottimale nei\n",
    "# due differenti scenari [5, 15] e [16, 25] modificando i\n",
    "# successivi parametri, completando il codice e analizzando l'output\n",
    "\n",
    "s_min = ...\n",
    "s_max = ...\n",
    "execution_count = ...\n",
    "initial_seed = ...\n",
    "max_iteration_count = 50\n",
    "\n",
    "random.seed(initial_seed)\n",
    "s = np.array(range(s_min, s_max + 1))\n",
    "y = np.empty(s.shape[0])\n",
    "\n",
    "seeds = np.zeros((s.shape[0], execution_count), dtype=int)\n",
    "\n",
    "for i in range(s.shape[0]):\n",
    "    for j in range(execution_count):\n",
    "        seeds[i, j] = random.randint(0, 1000000)\n",
    "    \n",
    "...\n",
    "\n",
    "plt.figure(num=0, dpi=96, figsize=(8, 6))\n",
    "plt.plot(s, y, marker='o')\n",
    "plt.xticks(range(s_min, s_max+1))\n",
    "plt.xlabel('# clusters')\n",
    "plt.ylabel('Somma quadrati distanze (MIN)')\n",
    "plt.show()"
   ]
  },
  {
   "cell_type": "markdown",
   "metadata": {},
   "source": [
    "Si individui il numero di profumi presenti nel dataset analizzando il grafico. Si faccia attenzione al fatto che, per come è definito $J_e$, valori grandi di $s$ producono più facilmente valori piccoli di $J_e$.\n",
    "\n",
    "Pertanto per determinare il numero ottimale di cluster (validation) si suggerisce di:\n",
    "\n",
    "- analizzare il grafico alla ricerca di punti di discontinuità (*elbow*);\n",
    "- utilizzare *silhouette analysis* (*silhouette score* e *diagram*) presenti in Scikit-learn. Vedi:\n",
    "https://scikit-learn.org/stable/auto_examples/cluster/plot_kmeans_silhouette_analysis.html#sphx-glr-auto-examples-cluster-plot-kmeans-silhouette-analysis-py\n",
    "\n",
    "\n",
    "Il codice seguente può essere utilizzato come ulteriore supporto per l'individuazione dell'esatto numero di profumi analizzando visivamente le singole soluzioni ottenute al passo precedente."
   ]
  },
  {
   "cell_type": "code",
   "execution_count": null,
   "metadata": {},
   "outputs": [],
   "source": [
    "s = ...\n",
    "seed = ...\n",
    "\n",
    "kmeans = KMeans(n_clusters=s, random_state=seed, n_init=1)\n",
    "kmeans.fit(data)\n",
    "\n",
    "plt.figure(num=0, dpi=96, figsize=(8, 6))\n",
    "ml_visualization.draw_clustering_decision_boundaries(data, kmeans.labels_, kmeans.cluster_centers_, step=0.4)\n",
    "plt.show()"
   ]
  },
  {
   "cell_type": "markdown",
   "metadata": {},
   "source": [
    "In particolare, riportare il numero reale di profumi nel caso in cui $s$ sia compreso tra 5 e 15 e nel caso in cui sia compreso tra 16 e 25.\n",
    "\n",
    "Memorizzare i due valori di $s$ in un file di testo dal nome \"Es6Predictions.txt\" (un valore per riga). La cella seguente genera, date le stime di $s_1 \\in [5, 15]$ e $s_2 \\in [16, 25]$, il file di testo correttamente formattato."
   ]
  },
  {
   "cell_type": "code",
   "execution_count": null,
   "metadata": {
    "tags": []
   },
   "outputs": [],
   "source": [
    "# Assegnare a s_1 e s_2 i valori trovati \n",
    "s_1 = ...\n",
    "s_2 = ...\n",
    "\n",
    "# Creazione del file di testo\n",
    "result_path = 'Es6Predictions.txt'\n",
    "s_values = np.array([s_1, s_2], dtype=int)\n",
    "np.savetxt(result_path, s_values, fmt='%i')\n",
    "print('Ok')"
   ]
  }
 ],
 "metadata": {
  "kernelspec": {
   "display_name": "Python 3 (ipykernel)",
   "language": "python",
   "name": "python3"
  },
  "language_info": {
   "codemirror_mode": {
    "name": "ipython",
    "version": 3
   },
   "file_extension": ".py",
   "mimetype": "text/x-python",
   "name": "python",
   "nbconvert_exporter": "python",
   "pygments_lexer": "ipython3",
   "version": "3.11.4"
  }
 },
 "nbformat": 4,
 "nbformat_minor": 4
}
