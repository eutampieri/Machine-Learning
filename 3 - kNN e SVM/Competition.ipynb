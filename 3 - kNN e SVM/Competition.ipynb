{
 "cells": [
  {
   "cell_type": "markdown",
   "id": "fe8311ae",
   "metadata": {},
   "source": [
    "# Eugenio Tampieri"
   ]
  },
  {
   "cell_type": "code",
   "execution_count": 1,
   "id": "d10f29f6",
   "metadata": {},
   "outputs": [],
   "source": [
    "from sklearn.neighbors import KNeighborsClassifier\n",
    "from sklearn.svm import SVC\n",
    "from sklearn.dummy import DummyClassifier\n",
    "from sklearn.model_selection import cross_val_score, GridSearchCV, ParameterGrid, train_test_split\n",
    "\n",
    "import ml_utilities\n",
    "import ml_visualization"
   ]
  },
  {
   "cell_type": "code",
   "execution_count": 2,
   "id": "15d4893a",
   "metadata": {},
   "outputs": [
    {
     "name": "stdout",
     "output_type": "stream",
     "text": [
      "Shape dataset: (442, 16)\n",
      "Shape labels: (442,)\n"
     ]
    }
   ],
   "source": [
    "# Scelta del dataset da utilizzare (16 o 2 features)\n",
    "feature_count = 16\n",
    "dataset_path = 'DBs/PenDigits/pendigits_tr.txt'  # Impostare il percorso corretto\n",
    "\n",
    "# Caricamento del dataset\n",
    "dataset_patterns, dataset_labels = ml_utilities.load_labeled_dataset_from_txt(dataset_path, feature_count)\n",
    "print('Shape dataset:', dataset_patterns.shape)\n",
    "print('Shape labels:', dataset_labels.shape)"
   ]
  },
  {
   "cell_type": "code",
   "execution_count": 3,
   "id": "c8677095",
   "metadata": {},
   "outputs": [
    {
     "name": "stdout",
     "output_type": "stream",
     "text": [
      "Shape training set: (265, 16)\n",
      "Shape validation set: (177, 16)\n"
     ]
    }
   ],
   "source": [
    "train_x, validation_x, train_y, validation_y = train_test_split(dataset_patterns, dataset_labels, test_size=0.40)\n",
    "print('Shape training set:', train_x.shape)\n",
    "print('Shape validation set:', validation_x.shape)"
   ]
  },
  {
   "cell_type": "code",
   "execution_count": 4,
   "id": "a00c6688",
   "metadata": {},
   "outputs": [
    {
     "name": "stdout",
     "output_type": "stream",
     "text": [
      "Accuratezza sul training set: 0.853\n",
      "Accuratezza sul validation set: 0.797\n",
      "Accuratezza sul training set: 1.000\n",
      "Accuratezza sul validation set: 0.695\n",
      "Accuratezza sul training set: 0.951\n",
      "Accuratezza sul validation set: 0.831\n"
     ]
    }
   ],
   "source": [
    "clfs = [KNeighborsClassifier(), SVC(kernel=\"linear\"), SVC(kernel=\"rbf\")]\n",
    "\n",
    "for clf in clfs:\n",
    "    \n",
    "    # Addestramento del classificatore\n",
    "    # ...\n",
    "    clf.fit(train_x, train_y)\n",
    "    \n",
    "    # Calcolo accuratezza\n",
    "    print('Accuratezza sul training set: %.3f' % clf.score(train_x, train_y))\n",
    "    print('Accuratezza sul validation set: %.3f' % clf.score(validation_x, validation_y))\n"
   ]
  },
  {
   "cell_type": "markdown",
   "id": "29a2eb33",
   "metadata": {},
   "source": [
    "Scelgo la SVM perché mi da migliore accuratezza"
   ]
  },
  {
   "cell_type": "code",
   "execution_count": 14,
   "id": "ca4678b6",
   "metadata": {},
   "outputs": [
    {
     "name": "stdout",
     "output_type": "stream",
     "text": [
      "Combinazioni di parametri:\n",
      " [{'C': 1, 'degree': 2, 'gamma': 0.05, 'kernel': 'linear'}, {'C': 1, 'degree': 2, 'gamma': 0.05, 'kernel': 'poly'}, {'C': 1, 'degree': 2, 'gamma': 0.05, 'kernel': 'rbf'}, {'C': 1, 'degree': 2, 'gamma': 0.05, 'kernel': 'sigmoid'}, {'C': 1, 'degree': 2, 'gamma': 0.025, 'kernel': 'linear'}, {'C': 1, 'degree': 2, 'gamma': 0.025, 'kernel': 'poly'}, {'C': 1, 'degree': 2, 'gamma': 0.025, 'kernel': 'rbf'}, {'C': 1, 'degree': 2, 'gamma': 0.025, 'kernel': 'sigmoid'}, {'C': 1, 'degree': 2, 'gamma': 'scale', 'kernel': 'linear'}, {'C': 1, 'degree': 2, 'gamma': 'scale', 'kernel': 'poly'}, {'C': 1, 'degree': 2, 'gamma': 'scale', 'kernel': 'rbf'}, {'C': 1, 'degree': 2, 'gamma': 'scale', 'kernel': 'sigmoid'}, {'C': 1, 'degree': 2, 'gamma': 'auto', 'kernel': 'linear'}, {'C': 1, 'degree': 2, 'gamma': 'auto', 'kernel': 'poly'}, {'C': 1, 'degree': 2, 'gamma': 'auto', 'kernel': 'rbf'}, {'C': 1, 'degree': 2, 'gamma': 'auto', 'kernel': 'sigmoid'}, {'C': 1, 'degree': 2, 'gamma': 0.5, 'kernel': 'linear'}, {'C': 1, 'degree': 2, 'gamma': 0.5, 'kernel': 'poly'}, {'C': 1, 'degree': 2, 'gamma': 0.5, 'kernel': 'rbf'}, {'C': 1, 'degree': 2, 'gamma': 0.5, 'kernel': 'sigmoid'}, {'C': 1, 'degree': 2, 'gamma': 0.25, 'kernel': 'linear'}, {'C': 1, 'degree': 2, 'gamma': 0.25, 'kernel': 'poly'}, {'C': 1, 'degree': 2, 'gamma': 0.25, 'kernel': 'rbf'}, {'C': 1, 'degree': 2, 'gamma': 0.25, 'kernel': 'sigmoid'}, {'C': 1, 'degree': 3, 'gamma': 0.05, 'kernel': 'linear'}, {'C': 1, 'degree': 3, 'gamma': 0.05, 'kernel': 'poly'}, {'C': 1, 'degree': 3, 'gamma': 0.05, 'kernel': 'rbf'}, {'C': 1, 'degree': 3, 'gamma': 0.05, 'kernel': 'sigmoid'}, {'C': 1, 'degree': 3, 'gamma': 0.025, 'kernel': 'linear'}, {'C': 1, 'degree': 3, 'gamma': 0.025, 'kernel': 'poly'}, {'C': 1, 'degree': 3, 'gamma': 0.025, 'kernel': 'rbf'}, {'C': 1, 'degree': 3, 'gamma': 0.025, 'kernel': 'sigmoid'}, {'C': 1, 'degree': 3, 'gamma': 'scale', 'kernel': 'linear'}, {'C': 1, 'degree': 3, 'gamma': 'scale', 'kernel': 'poly'}, {'C': 1, 'degree': 3, 'gamma': 'scale', 'kernel': 'rbf'}, {'C': 1, 'degree': 3, 'gamma': 'scale', 'kernel': 'sigmoid'}, {'C': 1, 'degree': 3, 'gamma': 'auto', 'kernel': 'linear'}, {'C': 1, 'degree': 3, 'gamma': 'auto', 'kernel': 'poly'}, {'C': 1, 'degree': 3, 'gamma': 'auto', 'kernel': 'rbf'}, {'C': 1, 'degree': 3, 'gamma': 'auto', 'kernel': 'sigmoid'}, {'C': 1, 'degree': 3, 'gamma': 0.5, 'kernel': 'linear'}, {'C': 1, 'degree': 3, 'gamma': 0.5, 'kernel': 'poly'}, {'C': 1, 'degree': 3, 'gamma': 0.5, 'kernel': 'rbf'}, {'C': 1, 'degree': 3, 'gamma': 0.5, 'kernel': 'sigmoid'}, {'C': 1, 'degree': 3, 'gamma': 0.25, 'kernel': 'linear'}, {'C': 1, 'degree': 3, 'gamma': 0.25, 'kernel': 'poly'}, {'C': 1, 'degree': 3, 'gamma': 0.25, 'kernel': 'rbf'}, {'C': 1, 'degree': 3, 'gamma': 0.25, 'kernel': 'sigmoid'}, {'C': 1, 'degree': 4, 'gamma': 0.05, 'kernel': 'linear'}, {'C': 1, 'degree': 4, 'gamma': 0.05, 'kernel': 'poly'}, {'C': 1, 'degree': 4, 'gamma': 0.05, 'kernel': 'rbf'}, {'C': 1, 'degree': 4, 'gamma': 0.05, 'kernel': 'sigmoid'}, {'C': 1, 'degree': 4, 'gamma': 0.025, 'kernel': 'linear'}, {'C': 1, 'degree': 4, 'gamma': 0.025, 'kernel': 'poly'}, {'C': 1, 'degree': 4, 'gamma': 0.025, 'kernel': 'rbf'}, {'C': 1, 'degree': 4, 'gamma': 0.025, 'kernel': 'sigmoid'}, {'C': 1, 'degree': 4, 'gamma': 'scale', 'kernel': 'linear'}, {'C': 1, 'degree': 4, 'gamma': 'scale', 'kernel': 'poly'}, {'C': 1, 'degree': 4, 'gamma': 'scale', 'kernel': 'rbf'}, {'C': 1, 'degree': 4, 'gamma': 'scale', 'kernel': 'sigmoid'}, {'C': 1, 'degree': 4, 'gamma': 'auto', 'kernel': 'linear'}, {'C': 1, 'degree': 4, 'gamma': 'auto', 'kernel': 'poly'}, {'C': 1, 'degree': 4, 'gamma': 'auto', 'kernel': 'rbf'}, {'C': 1, 'degree': 4, 'gamma': 'auto', 'kernel': 'sigmoid'}, {'C': 1, 'degree': 4, 'gamma': 0.5, 'kernel': 'linear'}, {'C': 1, 'degree': 4, 'gamma': 0.5, 'kernel': 'poly'}, {'C': 1, 'degree': 4, 'gamma': 0.5, 'kernel': 'rbf'}, {'C': 1, 'degree': 4, 'gamma': 0.5, 'kernel': 'sigmoid'}, {'C': 1, 'degree': 4, 'gamma': 0.25, 'kernel': 'linear'}, {'C': 1, 'degree': 4, 'gamma': 0.25, 'kernel': 'poly'}, {'C': 1, 'degree': 4, 'gamma': 0.25, 'kernel': 'rbf'}, {'C': 1, 'degree': 4, 'gamma': 0.25, 'kernel': 'sigmoid'}, {'C': 2, 'degree': 2, 'gamma': 0.05, 'kernel': 'linear'}, {'C': 2, 'degree': 2, 'gamma': 0.05, 'kernel': 'poly'}, {'C': 2, 'degree': 2, 'gamma': 0.05, 'kernel': 'rbf'}, {'C': 2, 'degree': 2, 'gamma': 0.05, 'kernel': 'sigmoid'}, {'C': 2, 'degree': 2, 'gamma': 0.025, 'kernel': 'linear'}, {'C': 2, 'degree': 2, 'gamma': 0.025, 'kernel': 'poly'}, {'C': 2, 'degree': 2, 'gamma': 0.025, 'kernel': 'rbf'}, {'C': 2, 'degree': 2, 'gamma': 0.025, 'kernel': 'sigmoid'}, {'C': 2, 'degree': 2, 'gamma': 'scale', 'kernel': 'linear'}, {'C': 2, 'degree': 2, 'gamma': 'scale', 'kernel': 'poly'}, {'C': 2, 'degree': 2, 'gamma': 'scale', 'kernel': 'rbf'}, {'C': 2, 'degree': 2, 'gamma': 'scale', 'kernel': 'sigmoid'}, {'C': 2, 'degree': 2, 'gamma': 'auto', 'kernel': 'linear'}, {'C': 2, 'degree': 2, 'gamma': 'auto', 'kernel': 'poly'}, {'C': 2, 'degree': 2, 'gamma': 'auto', 'kernel': 'rbf'}, {'C': 2, 'degree': 2, 'gamma': 'auto', 'kernel': 'sigmoid'}, {'C': 2, 'degree': 2, 'gamma': 0.5, 'kernel': 'linear'}, {'C': 2, 'degree': 2, 'gamma': 0.5, 'kernel': 'poly'}, {'C': 2, 'degree': 2, 'gamma': 0.5, 'kernel': 'rbf'}, {'C': 2, 'degree': 2, 'gamma': 0.5, 'kernel': 'sigmoid'}, {'C': 2, 'degree': 2, 'gamma': 0.25, 'kernel': 'linear'}, {'C': 2, 'degree': 2, 'gamma': 0.25, 'kernel': 'poly'}, {'C': 2, 'degree': 2, 'gamma': 0.25, 'kernel': 'rbf'}, {'C': 2, 'degree': 2, 'gamma': 0.25, 'kernel': 'sigmoid'}, {'C': 2, 'degree': 3, 'gamma': 0.05, 'kernel': 'linear'}, {'C': 2, 'degree': 3, 'gamma': 0.05, 'kernel': 'poly'}, {'C': 2, 'degree': 3, 'gamma': 0.05, 'kernel': 'rbf'}, {'C': 2, 'degree': 3, 'gamma': 0.05, 'kernel': 'sigmoid'}, {'C': 2, 'degree': 3, 'gamma': 0.025, 'kernel': 'linear'}, {'C': 2, 'degree': 3, 'gamma': 0.025, 'kernel': 'poly'}, {'C': 2, 'degree': 3, 'gamma': 0.025, 'kernel': 'rbf'}, {'C': 2, 'degree': 3, 'gamma': 0.025, 'kernel': 'sigmoid'}, {'C': 2, 'degree': 3, 'gamma': 'scale', 'kernel': 'linear'}, {'C': 2, 'degree': 3, 'gamma': 'scale', 'kernel': 'poly'}, {'C': 2, 'degree': 3, 'gamma': 'scale', 'kernel': 'rbf'}, {'C': 2, 'degree': 3, 'gamma': 'scale', 'kernel': 'sigmoid'}, {'C': 2, 'degree': 3, 'gamma': 'auto', 'kernel': 'linear'}, {'C': 2, 'degree': 3, 'gamma': 'auto', 'kernel': 'poly'}, {'C': 2, 'degree': 3, 'gamma': 'auto', 'kernel': 'rbf'}, {'C': 2, 'degree': 3, 'gamma': 'auto', 'kernel': 'sigmoid'}, {'C': 2, 'degree': 3, 'gamma': 0.5, 'kernel': 'linear'}, {'C': 2, 'degree': 3, 'gamma': 0.5, 'kernel': 'poly'}, {'C': 2, 'degree': 3, 'gamma': 0.5, 'kernel': 'rbf'}, {'C': 2, 'degree': 3, 'gamma': 0.5, 'kernel': 'sigmoid'}, {'C': 2, 'degree': 3, 'gamma': 0.25, 'kernel': 'linear'}, {'C': 2, 'degree': 3, 'gamma': 0.25, 'kernel': 'poly'}, {'C': 2, 'degree': 3, 'gamma': 0.25, 'kernel': 'rbf'}, {'C': 2, 'degree': 3, 'gamma': 0.25, 'kernel': 'sigmoid'}, {'C': 2, 'degree': 4, 'gamma': 0.05, 'kernel': 'linear'}, {'C': 2, 'degree': 4, 'gamma': 0.05, 'kernel': 'poly'}, {'C': 2, 'degree': 4, 'gamma': 0.05, 'kernel': 'rbf'}, {'C': 2, 'degree': 4, 'gamma': 0.05, 'kernel': 'sigmoid'}, {'C': 2, 'degree': 4, 'gamma': 0.025, 'kernel': 'linear'}, {'C': 2, 'degree': 4, 'gamma': 0.025, 'kernel': 'poly'}, {'C': 2, 'degree': 4, 'gamma': 0.025, 'kernel': 'rbf'}, {'C': 2, 'degree': 4, 'gamma': 0.025, 'kernel': 'sigmoid'}, {'C': 2, 'degree': 4, 'gamma': 'scale', 'kernel': 'linear'}, {'C': 2, 'degree': 4, 'gamma': 'scale', 'kernel': 'poly'}, {'C': 2, 'degree': 4, 'gamma': 'scale', 'kernel': 'rbf'}, {'C': 2, 'degree': 4, 'gamma': 'scale', 'kernel': 'sigmoid'}, {'C': 2, 'degree': 4, 'gamma': 'auto', 'kernel': 'linear'}, {'C': 2, 'degree': 4, 'gamma': 'auto', 'kernel': 'poly'}, {'C': 2, 'degree': 4, 'gamma': 'auto', 'kernel': 'rbf'}, {'C': 2, 'degree': 4, 'gamma': 'auto', 'kernel': 'sigmoid'}, {'C': 2, 'degree': 4, 'gamma': 0.5, 'kernel': 'linear'}, {'C': 2, 'degree': 4, 'gamma': 0.5, 'kernel': 'poly'}, {'C': 2, 'degree': 4, 'gamma': 0.5, 'kernel': 'rbf'}, {'C': 2, 'degree': 4, 'gamma': 0.5, 'kernel': 'sigmoid'}, {'C': 2, 'degree': 4, 'gamma': 0.25, 'kernel': 'linear'}, {'C': 2, 'degree': 4, 'gamma': 0.25, 'kernel': 'poly'}, {'C': 2, 'degree': 4, 'gamma': 0.25, 'kernel': 'rbf'}, {'C': 2, 'degree': 4, 'gamma': 0.25, 'kernel': 'sigmoid'}, {'C': 4, 'degree': 2, 'gamma': 0.05, 'kernel': 'linear'}, {'C': 4, 'degree': 2, 'gamma': 0.05, 'kernel': 'poly'}, {'C': 4, 'degree': 2, 'gamma': 0.05, 'kernel': 'rbf'}, {'C': 4, 'degree': 2, 'gamma': 0.05, 'kernel': 'sigmoid'}, {'C': 4, 'degree': 2, 'gamma': 0.025, 'kernel': 'linear'}, {'C': 4, 'degree': 2, 'gamma': 0.025, 'kernel': 'poly'}, {'C': 4, 'degree': 2, 'gamma': 0.025, 'kernel': 'rbf'}, {'C': 4, 'degree': 2, 'gamma': 0.025, 'kernel': 'sigmoid'}, {'C': 4, 'degree': 2, 'gamma': 'scale', 'kernel': 'linear'}, {'C': 4, 'degree': 2, 'gamma': 'scale', 'kernel': 'poly'}, {'C': 4, 'degree': 2, 'gamma': 'scale', 'kernel': 'rbf'}, {'C': 4, 'degree': 2, 'gamma': 'scale', 'kernel': 'sigmoid'}, {'C': 4, 'degree': 2, 'gamma': 'auto', 'kernel': 'linear'}, {'C': 4, 'degree': 2, 'gamma': 'auto', 'kernel': 'poly'}, {'C': 4, 'degree': 2, 'gamma': 'auto', 'kernel': 'rbf'}, {'C': 4, 'degree': 2, 'gamma': 'auto', 'kernel': 'sigmoid'}, {'C': 4, 'degree': 2, 'gamma': 0.5, 'kernel': 'linear'}, {'C': 4, 'degree': 2, 'gamma': 0.5, 'kernel': 'poly'}, {'C': 4, 'degree': 2, 'gamma': 0.5, 'kernel': 'rbf'}, {'C': 4, 'degree': 2, 'gamma': 0.5, 'kernel': 'sigmoid'}, {'C': 4, 'degree': 2, 'gamma': 0.25, 'kernel': 'linear'}, {'C': 4, 'degree': 2, 'gamma': 0.25, 'kernel': 'poly'}, {'C': 4, 'degree': 2, 'gamma': 0.25, 'kernel': 'rbf'}, {'C': 4, 'degree': 2, 'gamma': 0.25, 'kernel': 'sigmoid'}, {'C': 4, 'degree': 3, 'gamma': 0.05, 'kernel': 'linear'}, {'C': 4, 'degree': 3, 'gamma': 0.05, 'kernel': 'poly'}, {'C': 4, 'degree': 3, 'gamma': 0.05, 'kernel': 'rbf'}, {'C': 4, 'degree': 3, 'gamma': 0.05, 'kernel': 'sigmoid'}, {'C': 4, 'degree': 3, 'gamma': 0.025, 'kernel': 'linear'}, {'C': 4, 'degree': 3, 'gamma': 0.025, 'kernel': 'poly'}, {'C': 4, 'degree': 3, 'gamma': 0.025, 'kernel': 'rbf'}, {'C': 4, 'degree': 3, 'gamma': 0.025, 'kernel': 'sigmoid'}, {'C': 4, 'degree': 3, 'gamma': 'scale', 'kernel': 'linear'}, {'C': 4, 'degree': 3, 'gamma': 'scale', 'kernel': 'poly'}, {'C': 4, 'degree': 3, 'gamma': 'scale', 'kernel': 'rbf'}, {'C': 4, 'degree': 3, 'gamma': 'scale', 'kernel': 'sigmoid'}, {'C': 4, 'degree': 3, 'gamma': 'auto', 'kernel': 'linear'}, {'C': 4, 'degree': 3, 'gamma': 'auto', 'kernel': 'poly'}, {'C': 4, 'degree': 3, 'gamma': 'auto', 'kernel': 'rbf'}, {'C': 4, 'degree': 3, 'gamma': 'auto', 'kernel': 'sigmoid'}, {'C': 4, 'degree': 3, 'gamma': 0.5, 'kernel': 'linear'}, {'C': 4, 'degree': 3, 'gamma': 0.5, 'kernel': 'poly'}, {'C': 4, 'degree': 3, 'gamma': 0.5, 'kernel': 'rbf'}, {'C': 4, 'degree': 3, 'gamma': 0.5, 'kernel': 'sigmoid'}, {'C': 4, 'degree': 3, 'gamma': 0.25, 'kernel': 'linear'}, {'C': 4, 'degree': 3, 'gamma': 0.25, 'kernel': 'poly'}, {'C': 4, 'degree': 3, 'gamma': 0.25, 'kernel': 'rbf'}, {'C': 4, 'degree': 3, 'gamma': 0.25, 'kernel': 'sigmoid'}, {'C': 4, 'degree': 4, 'gamma': 0.05, 'kernel': 'linear'}, {'C': 4, 'degree': 4, 'gamma': 0.05, 'kernel': 'poly'}, {'C': 4, 'degree': 4, 'gamma': 0.05, 'kernel': 'rbf'}, {'C': 4, 'degree': 4, 'gamma': 0.05, 'kernel': 'sigmoid'}, {'C': 4, 'degree': 4, 'gamma': 0.025, 'kernel': 'linear'}, {'C': 4, 'degree': 4, 'gamma': 0.025, 'kernel': 'poly'}, {'C': 4, 'degree': 4, 'gamma': 0.025, 'kernel': 'rbf'}, {'C': 4, 'degree': 4, 'gamma': 0.025, 'kernel': 'sigmoid'}, {'C': 4, 'degree': 4, 'gamma': 'scale', 'kernel': 'linear'}, {'C': 4, 'degree': 4, 'gamma': 'scale', 'kernel': 'poly'}, {'C': 4, 'degree': 4, 'gamma': 'scale', 'kernel': 'rbf'}, {'C': 4, 'degree': 4, 'gamma': 'scale', 'kernel': 'sigmoid'}, {'C': 4, 'degree': 4, 'gamma': 'auto', 'kernel': 'linear'}, {'C': 4, 'degree': 4, 'gamma': 'auto', 'kernel': 'poly'}, {'C': 4, 'degree': 4, 'gamma': 'auto', 'kernel': 'rbf'}, {'C': 4, 'degree': 4, 'gamma': 'auto', 'kernel': 'sigmoid'}, {'C': 4, 'degree': 4, 'gamma': 0.5, 'kernel': 'linear'}, {'C': 4, 'degree': 4, 'gamma': 0.5, 'kernel': 'poly'}, {'C': 4, 'degree': 4, 'gamma': 0.5, 'kernel': 'rbf'}, {'C': 4, 'degree': 4, 'gamma': 0.5, 'kernel': 'sigmoid'}, {'C': 4, 'degree': 4, 'gamma': 0.25, 'kernel': 'linear'}, {'C': 4, 'degree': 4, 'gamma': 0.25, 'kernel': 'poly'}, {'C': 4, 'degree': 4, 'gamma': 0.25, 'kernel': 'rbf'}, {'C': 4, 'degree': 4, 'gamma': 0.25, 'kernel': 'sigmoid'}, {'C': 6, 'degree': 2, 'gamma': 0.05, 'kernel': 'linear'}, {'C': 6, 'degree': 2, 'gamma': 0.05, 'kernel': 'poly'}, {'C': 6, 'degree': 2, 'gamma': 0.05, 'kernel': 'rbf'}, {'C': 6, 'degree': 2, 'gamma': 0.05, 'kernel': 'sigmoid'}, {'C': 6, 'degree': 2, 'gamma': 0.025, 'kernel': 'linear'}, {'C': 6, 'degree': 2, 'gamma': 0.025, 'kernel': 'poly'}, {'C': 6, 'degree': 2, 'gamma': 0.025, 'kernel': 'rbf'}, {'C': 6, 'degree': 2, 'gamma': 0.025, 'kernel': 'sigmoid'}, {'C': 6, 'degree': 2, 'gamma': 'scale', 'kernel': 'linear'}, {'C': 6, 'degree': 2, 'gamma': 'scale', 'kernel': 'poly'}, {'C': 6, 'degree': 2, 'gamma': 'scale', 'kernel': 'rbf'}, {'C': 6, 'degree': 2, 'gamma': 'scale', 'kernel': 'sigmoid'}, {'C': 6, 'degree': 2, 'gamma': 'auto', 'kernel': 'linear'}, {'C': 6, 'degree': 2, 'gamma': 'auto', 'kernel': 'poly'}, {'C': 6, 'degree': 2, 'gamma': 'auto', 'kernel': 'rbf'}, {'C': 6, 'degree': 2, 'gamma': 'auto', 'kernel': 'sigmoid'}, {'C': 6, 'degree': 2, 'gamma': 0.5, 'kernel': 'linear'}, {'C': 6, 'degree': 2, 'gamma': 0.5, 'kernel': 'poly'}, {'C': 6, 'degree': 2, 'gamma': 0.5, 'kernel': 'rbf'}, {'C': 6, 'degree': 2, 'gamma': 0.5, 'kernel': 'sigmoid'}, {'C': 6, 'degree': 2, 'gamma': 0.25, 'kernel': 'linear'}, {'C': 6, 'degree': 2, 'gamma': 0.25, 'kernel': 'poly'}, {'C': 6, 'degree': 2, 'gamma': 0.25, 'kernel': 'rbf'}, {'C': 6, 'degree': 2, 'gamma': 0.25, 'kernel': 'sigmoid'}, {'C': 6, 'degree': 3, 'gamma': 0.05, 'kernel': 'linear'}, {'C': 6, 'degree': 3, 'gamma': 0.05, 'kernel': 'poly'}, {'C': 6, 'degree': 3, 'gamma': 0.05, 'kernel': 'rbf'}, {'C': 6, 'degree': 3, 'gamma': 0.05, 'kernel': 'sigmoid'}, {'C': 6, 'degree': 3, 'gamma': 0.025, 'kernel': 'linear'}, {'C': 6, 'degree': 3, 'gamma': 0.025, 'kernel': 'poly'}, {'C': 6, 'degree': 3, 'gamma': 0.025, 'kernel': 'rbf'}, {'C': 6, 'degree': 3, 'gamma': 0.025, 'kernel': 'sigmoid'}, {'C': 6, 'degree': 3, 'gamma': 'scale', 'kernel': 'linear'}, {'C': 6, 'degree': 3, 'gamma': 'scale', 'kernel': 'poly'}, {'C': 6, 'degree': 3, 'gamma': 'scale', 'kernel': 'rbf'}, {'C': 6, 'degree': 3, 'gamma': 'scale', 'kernel': 'sigmoid'}, {'C': 6, 'degree': 3, 'gamma': 'auto', 'kernel': 'linear'}, {'C': 6, 'degree': 3, 'gamma': 'auto', 'kernel': 'poly'}, {'C': 6, 'degree': 3, 'gamma': 'auto', 'kernel': 'rbf'}, {'C': 6, 'degree': 3, 'gamma': 'auto', 'kernel': 'sigmoid'}, {'C': 6, 'degree': 3, 'gamma': 0.5, 'kernel': 'linear'}, {'C': 6, 'degree': 3, 'gamma': 0.5, 'kernel': 'poly'}, {'C': 6, 'degree': 3, 'gamma': 0.5, 'kernel': 'rbf'}, {'C': 6, 'degree': 3, 'gamma': 0.5, 'kernel': 'sigmoid'}, {'C': 6, 'degree': 3, 'gamma': 0.25, 'kernel': 'linear'}, {'C': 6, 'degree': 3, 'gamma': 0.25, 'kernel': 'poly'}, {'C': 6, 'degree': 3, 'gamma': 0.25, 'kernel': 'rbf'}, {'C': 6, 'degree': 3, 'gamma': 0.25, 'kernel': 'sigmoid'}, {'C': 6, 'degree': 4, 'gamma': 0.05, 'kernel': 'linear'}, {'C': 6, 'degree': 4, 'gamma': 0.05, 'kernel': 'poly'}, {'C': 6, 'degree': 4, 'gamma': 0.05, 'kernel': 'rbf'}, {'C': 6, 'degree': 4, 'gamma': 0.05, 'kernel': 'sigmoid'}, {'C': 6, 'degree': 4, 'gamma': 0.025, 'kernel': 'linear'}, {'C': 6, 'degree': 4, 'gamma': 0.025, 'kernel': 'poly'}, {'C': 6, 'degree': 4, 'gamma': 0.025, 'kernel': 'rbf'}, {'C': 6, 'degree': 4, 'gamma': 0.025, 'kernel': 'sigmoid'}, {'C': 6, 'degree': 4, 'gamma': 'scale', 'kernel': 'linear'}, {'C': 6, 'degree': 4, 'gamma': 'scale', 'kernel': 'poly'}, {'C': 6, 'degree': 4, 'gamma': 'scale', 'kernel': 'rbf'}, {'C': 6, 'degree': 4, 'gamma': 'scale', 'kernel': 'sigmoid'}, {'C': 6, 'degree': 4, 'gamma': 'auto', 'kernel': 'linear'}, {'C': 6, 'degree': 4, 'gamma': 'auto', 'kernel': 'poly'}, {'C': 6, 'degree': 4, 'gamma': 'auto', 'kernel': 'rbf'}, {'C': 6, 'degree': 4, 'gamma': 'auto', 'kernel': 'sigmoid'}, {'C': 6, 'degree': 4, 'gamma': 0.5, 'kernel': 'linear'}, {'C': 6, 'degree': 4, 'gamma': 0.5, 'kernel': 'poly'}, {'C': 6, 'degree': 4, 'gamma': 0.5, 'kernel': 'rbf'}, {'C': 6, 'degree': 4, 'gamma': 0.5, 'kernel': 'sigmoid'}, {'C': 6, 'degree': 4, 'gamma': 0.25, 'kernel': 'linear'}, {'C': 6, 'degree': 4, 'gamma': 0.25, 'kernel': 'poly'}, {'C': 6, 'degree': 4, 'gamma': 0.25, 'kernel': 'rbf'}, {'C': 6, 'degree': 4, 'gamma': 0.25, 'kernel': 'sigmoid'}, {'C': 8, 'degree': 2, 'gamma': 0.05, 'kernel': 'linear'}, {'C': 8, 'degree': 2, 'gamma': 0.05, 'kernel': 'poly'}, {'C': 8, 'degree': 2, 'gamma': 0.05, 'kernel': 'rbf'}, {'C': 8, 'degree': 2, 'gamma': 0.05, 'kernel': 'sigmoid'}, {'C': 8, 'degree': 2, 'gamma': 0.025, 'kernel': 'linear'}, {'C': 8, 'degree': 2, 'gamma': 0.025, 'kernel': 'poly'}, {'C': 8, 'degree': 2, 'gamma': 0.025, 'kernel': 'rbf'}, {'C': 8, 'degree': 2, 'gamma': 0.025, 'kernel': 'sigmoid'}, {'C': 8, 'degree': 2, 'gamma': 'scale', 'kernel': 'linear'}, {'C': 8, 'degree': 2, 'gamma': 'scale', 'kernel': 'poly'}, {'C': 8, 'degree': 2, 'gamma': 'scale', 'kernel': 'rbf'}, {'C': 8, 'degree': 2, 'gamma': 'scale', 'kernel': 'sigmoid'}, {'C': 8, 'degree': 2, 'gamma': 'auto', 'kernel': 'linear'}, {'C': 8, 'degree': 2, 'gamma': 'auto', 'kernel': 'poly'}, {'C': 8, 'degree': 2, 'gamma': 'auto', 'kernel': 'rbf'}, {'C': 8, 'degree': 2, 'gamma': 'auto', 'kernel': 'sigmoid'}, {'C': 8, 'degree': 2, 'gamma': 0.5, 'kernel': 'linear'}, {'C': 8, 'degree': 2, 'gamma': 0.5, 'kernel': 'poly'}, {'C': 8, 'degree': 2, 'gamma': 0.5, 'kernel': 'rbf'}, {'C': 8, 'degree': 2, 'gamma': 0.5, 'kernel': 'sigmoid'}, {'C': 8, 'degree': 2, 'gamma': 0.25, 'kernel': 'linear'}, {'C': 8, 'degree': 2, 'gamma': 0.25, 'kernel': 'poly'}, {'C': 8, 'degree': 2, 'gamma': 0.25, 'kernel': 'rbf'}, {'C': 8, 'degree': 2, 'gamma': 0.25, 'kernel': 'sigmoid'}, {'C': 8, 'degree': 3, 'gamma': 0.05, 'kernel': 'linear'}, {'C': 8, 'degree': 3, 'gamma': 0.05, 'kernel': 'poly'}, {'C': 8, 'degree': 3, 'gamma': 0.05, 'kernel': 'rbf'}, {'C': 8, 'degree': 3, 'gamma': 0.05, 'kernel': 'sigmoid'}, {'C': 8, 'degree': 3, 'gamma': 0.025, 'kernel': 'linear'}, {'C': 8, 'degree': 3, 'gamma': 0.025, 'kernel': 'poly'}, {'C': 8, 'degree': 3, 'gamma': 0.025, 'kernel': 'rbf'}, {'C': 8, 'degree': 3, 'gamma': 0.025, 'kernel': 'sigmoid'}, {'C': 8, 'degree': 3, 'gamma': 'scale', 'kernel': 'linear'}, {'C': 8, 'degree': 3, 'gamma': 'scale', 'kernel': 'poly'}, {'C': 8, 'degree': 3, 'gamma': 'scale', 'kernel': 'rbf'}, {'C': 8, 'degree': 3, 'gamma': 'scale', 'kernel': 'sigmoid'}, {'C': 8, 'degree': 3, 'gamma': 'auto', 'kernel': 'linear'}, {'C': 8, 'degree': 3, 'gamma': 'auto', 'kernel': 'poly'}, {'C': 8, 'degree': 3, 'gamma': 'auto', 'kernel': 'rbf'}, {'C': 8, 'degree': 3, 'gamma': 'auto', 'kernel': 'sigmoid'}, {'C': 8, 'degree': 3, 'gamma': 0.5, 'kernel': 'linear'}, {'C': 8, 'degree': 3, 'gamma': 0.5, 'kernel': 'poly'}, {'C': 8, 'degree': 3, 'gamma': 0.5, 'kernel': 'rbf'}, {'C': 8, 'degree': 3, 'gamma': 0.5, 'kernel': 'sigmoid'}, {'C': 8, 'degree': 3, 'gamma': 0.25, 'kernel': 'linear'}, {'C': 8, 'degree': 3, 'gamma': 0.25, 'kernel': 'poly'}, {'C': 8, 'degree': 3, 'gamma': 0.25, 'kernel': 'rbf'}, {'C': 8, 'degree': 3, 'gamma': 0.25, 'kernel': 'sigmoid'}, {'C': 8, 'degree': 4, 'gamma': 0.05, 'kernel': 'linear'}, {'C': 8, 'degree': 4, 'gamma': 0.05, 'kernel': 'poly'}, {'C': 8, 'degree': 4, 'gamma': 0.05, 'kernel': 'rbf'}, {'C': 8, 'degree': 4, 'gamma': 0.05, 'kernel': 'sigmoid'}, {'C': 8, 'degree': 4, 'gamma': 0.025, 'kernel': 'linear'}, {'C': 8, 'degree': 4, 'gamma': 0.025, 'kernel': 'poly'}, {'C': 8, 'degree': 4, 'gamma': 0.025, 'kernel': 'rbf'}, {'C': 8, 'degree': 4, 'gamma': 0.025, 'kernel': 'sigmoid'}, {'C': 8, 'degree': 4, 'gamma': 'scale', 'kernel': 'linear'}, {'C': 8, 'degree': 4, 'gamma': 'scale', 'kernel': 'poly'}, {'C': 8, 'degree': 4, 'gamma': 'scale', 'kernel': 'rbf'}, {'C': 8, 'degree': 4, 'gamma': 'scale', 'kernel': 'sigmoid'}, {'C': 8, 'degree': 4, 'gamma': 'auto', 'kernel': 'linear'}, {'C': 8, 'degree': 4, 'gamma': 'auto', 'kernel': 'poly'}, {'C': 8, 'degree': 4, 'gamma': 'auto', 'kernel': 'rbf'}, {'C': 8, 'degree': 4, 'gamma': 'auto', 'kernel': 'sigmoid'}, {'C': 8, 'degree': 4, 'gamma': 0.5, 'kernel': 'linear'}, {'C': 8, 'degree': 4, 'gamma': 0.5, 'kernel': 'poly'}, {'C': 8, 'degree': 4, 'gamma': 0.5, 'kernel': 'rbf'}, {'C': 8, 'degree': 4, 'gamma': 0.5, 'kernel': 'sigmoid'}, {'C': 8, 'degree': 4, 'gamma': 0.25, 'kernel': 'linear'}, {'C': 8, 'degree': 4, 'gamma': 0.25, 'kernel': 'poly'}, {'C': 8, 'degree': 4, 'gamma': 0.25, 'kernel': 'rbf'}, {'C': 8, 'degree': 4, 'gamma': 0.25, 'kernel': 'sigmoid'}, {'C': 10, 'degree': 2, 'gamma': 0.05, 'kernel': 'linear'}, {'C': 10, 'degree': 2, 'gamma': 0.05, 'kernel': 'poly'}, {'C': 10, 'degree': 2, 'gamma': 0.05, 'kernel': 'rbf'}, {'C': 10, 'degree': 2, 'gamma': 0.05, 'kernel': 'sigmoid'}, {'C': 10, 'degree': 2, 'gamma': 0.025, 'kernel': 'linear'}, {'C': 10, 'degree': 2, 'gamma': 0.025, 'kernel': 'poly'}, {'C': 10, 'degree': 2, 'gamma': 0.025, 'kernel': 'rbf'}, {'C': 10, 'degree': 2, 'gamma': 0.025, 'kernel': 'sigmoid'}, {'C': 10, 'degree': 2, 'gamma': 'scale', 'kernel': 'linear'}, {'C': 10, 'degree': 2, 'gamma': 'scale', 'kernel': 'poly'}, {'C': 10, 'degree': 2, 'gamma': 'scale', 'kernel': 'rbf'}, {'C': 10, 'degree': 2, 'gamma': 'scale', 'kernel': 'sigmoid'}, {'C': 10, 'degree': 2, 'gamma': 'auto', 'kernel': 'linear'}, {'C': 10, 'degree': 2, 'gamma': 'auto', 'kernel': 'poly'}, {'C': 10, 'degree': 2, 'gamma': 'auto', 'kernel': 'rbf'}, {'C': 10, 'degree': 2, 'gamma': 'auto', 'kernel': 'sigmoid'}, {'C': 10, 'degree': 2, 'gamma': 0.5, 'kernel': 'linear'}, {'C': 10, 'degree': 2, 'gamma': 0.5, 'kernel': 'poly'}, {'C': 10, 'degree': 2, 'gamma': 0.5, 'kernel': 'rbf'}, {'C': 10, 'degree': 2, 'gamma': 0.5, 'kernel': 'sigmoid'}, {'C': 10, 'degree': 2, 'gamma': 0.25, 'kernel': 'linear'}, {'C': 10, 'degree': 2, 'gamma': 0.25, 'kernel': 'poly'}, {'C': 10, 'degree': 2, 'gamma': 0.25, 'kernel': 'rbf'}, {'C': 10, 'degree': 2, 'gamma': 0.25, 'kernel': 'sigmoid'}, {'C': 10, 'degree': 3, 'gamma': 0.05, 'kernel': 'linear'}, {'C': 10, 'degree': 3, 'gamma': 0.05, 'kernel': 'poly'}, {'C': 10, 'degree': 3, 'gamma': 0.05, 'kernel': 'rbf'}, {'C': 10, 'degree': 3, 'gamma': 0.05, 'kernel': 'sigmoid'}, {'C': 10, 'degree': 3, 'gamma': 0.025, 'kernel': 'linear'}, {'C': 10, 'degree': 3, 'gamma': 0.025, 'kernel': 'poly'}, {'C': 10, 'degree': 3, 'gamma': 0.025, 'kernel': 'rbf'}, {'C': 10, 'degree': 3, 'gamma': 0.025, 'kernel': 'sigmoid'}, {'C': 10, 'degree': 3, 'gamma': 'scale', 'kernel': 'linear'}, {'C': 10, 'degree': 3, 'gamma': 'scale', 'kernel': 'poly'}, {'C': 10, 'degree': 3, 'gamma': 'scale', 'kernel': 'rbf'}, {'C': 10, 'degree': 3, 'gamma': 'scale', 'kernel': 'sigmoid'}, {'C': 10, 'degree': 3, 'gamma': 'auto', 'kernel': 'linear'}, {'C': 10, 'degree': 3, 'gamma': 'auto', 'kernel': 'poly'}, {'C': 10, 'degree': 3, 'gamma': 'auto', 'kernel': 'rbf'}, {'C': 10, 'degree': 3, 'gamma': 'auto', 'kernel': 'sigmoid'}, {'C': 10, 'degree': 3, 'gamma': 0.5, 'kernel': 'linear'}, {'C': 10, 'degree': 3, 'gamma': 0.5, 'kernel': 'poly'}, {'C': 10, 'degree': 3, 'gamma': 0.5, 'kernel': 'rbf'}, {'C': 10, 'degree': 3, 'gamma': 0.5, 'kernel': 'sigmoid'}, {'C': 10, 'degree': 3, 'gamma': 0.25, 'kernel': 'linear'}, {'C': 10, 'degree': 3, 'gamma': 0.25, 'kernel': 'poly'}, {'C': 10, 'degree': 3, 'gamma': 0.25, 'kernel': 'rbf'}, {'C': 10, 'degree': 3, 'gamma': 0.25, 'kernel': 'sigmoid'}, {'C': 10, 'degree': 4, 'gamma': 0.05, 'kernel': 'linear'}, {'C': 10, 'degree': 4, 'gamma': 0.05, 'kernel': 'poly'}, {'C': 10, 'degree': 4, 'gamma': 0.05, 'kernel': 'rbf'}, {'C': 10, 'degree': 4, 'gamma': 0.05, 'kernel': 'sigmoid'}, {'C': 10, 'degree': 4, 'gamma': 0.025, 'kernel': 'linear'}, {'C': 10, 'degree': 4, 'gamma': 0.025, 'kernel': 'poly'}, {'C': 10, 'degree': 4, 'gamma': 0.025, 'kernel': 'rbf'}, {'C': 10, 'degree': 4, 'gamma': 0.025, 'kernel': 'sigmoid'}, {'C': 10, 'degree': 4, 'gamma': 'scale', 'kernel': 'linear'}, {'C': 10, 'degree': 4, 'gamma': 'scale', 'kernel': 'poly'}, {'C': 10, 'degree': 4, 'gamma': 'scale', 'kernel': 'rbf'}, {'C': 10, 'degree': 4, 'gamma': 'scale', 'kernel': 'sigmoid'}, {'C': 10, 'degree': 4, 'gamma': 'auto', 'kernel': 'linear'}, {'C': 10, 'degree': 4, 'gamma': 'auto', 'kernel': 'poly'}, {'C': 10, 'degree': 4, 'gamma': 'auto', 'kernel': 'rbf'}, {'C': 10, 'degree': 4, 'gamma': 'auto', 'kernel': 'sigmoid'}, {'C': 10, 'degree': 4, 'gamma': 0.5, 'kernel': 'linear'}, {'C': 10, 'degree': 4, 'gamma': 0.5, 'kernel': 'poly'}, {'C': 10, 'degree': 4, 'gamma': 0.5, 'kernel': 'rbf'}, {'C': 10, 'degree': 4, 'gamma': 0.5, 'kernel': 'sigmoid'}, {'C': 10, 'degree': 4, 'gamma': 0.25, 'kernel': 'linear'}, {'C': 10, 'degree': 4, 'gamma': 0.25, 'kernel': 'poly'}, {'C': 10, 'degree': 4, 'gamma': 0.25, 'kernel': 'rbf'}, {'C': 10, 'degree': 4, 'gamma': 0.25, 'kernel': 'sigmoid'}]\n",
      "Accuratezza media per combinazione:\n",
      " [0.72405282 0.78511045 0.18752314 0.13121683 0.72405282 0.78511045\n",
      " 0.12896458 0.13121683 0.72405282 0.78955325 0.83034061 0.53838085\n",
      " 0.72405282 0.78511045 0.18076638 0.13121683 0.72405282 0.78511045\n",
      " 0.13121683 0.13121683 0.72405282 0.78511045 0.13121683 0.13121683\n",
      " 0.72405282 0.80093792 0.18752314 0.13121683 0.72405282 0.80093792\n",
      " 0.12896458 0.13121683 0.72405282 0.80994693 0.83034061 0.53838085\n",
      " 0.72405282 0.80093792 0.18076638 0.13121683 0.72405282 0.80093792\n",
      " 0.13121683 0.13121683 0.72405282 0.80093792 0.13121683 0.13121683\n",
      " 0.72405282 0.79411946 0.18752314 0.13121683 0.72405282 0.79411946\n",
      " 0.12896458 0.13121683 0.72405282 0.79186721 0.83034061 0.53838085\n",
      " 0.72405282 0.79411946 0.18076638 0.13121683 0.72405282 0.79411946\n",
      " 0.13121683 0.13121683 0.72405282 0.79411946 0.13121683 0.13121683\n",
      " 0.72405282 0.78511045 0.18752314 0.13121683 0.72405282 0.78511045\n",
      " 0.12896458 0.13121683 0.72405282 0.7918055  0.83027891 0.45476984\n",
      " 0.72405282 0.78511045 0.18076638 0.13121683 0.72405282 0.78511045\n",
      " 0.13121683 0.13121683 0.72405282 0.78511045 0.13121683 0.13121683\n",
      " 0.72405282 0.80093792 0.18752314 0.13121683 0.72405282 0.80093792\n",
      " 0.12896458 0.13121683 0.72405282 0.80544243 0.83027891 0.45476984\n",
      " 0.72405282 0.80093792 0.18076638 0.13121683 0.72405282 0.80093792\n",
      " 0.13121683 0.13121683 0.72405282 0.80093792 0.13121683 0.13121683\n",
      " 0.72405282 0.79411946 0.18752314 0.13121683 0.72405282 0.79411946\n",
      " 0.12896458 0.13121683 0.72405282 0.79411946 0.83027891 0.45476984\n",
      " 0.72405282 0.79411946 0.18076638 0.13121683 0.72405282 0.79411946\n",
      " 0.13121683 0.13121683 0.72405282 0.79411946 0.13121683 0.13121683\n",
      " 0.72405282 0.78511045 0.18752314 0.13121683 0.72405282 0.78511045\n",
      " 0.12896458 0.13121683 0.72405282 0.7895224  0.83928792 0.42555226\n",
      " 0.72405282 0.78511045 0.18076638 0.13121683 0.72405282 0.78511045\n",
      " 0.13121683 0.13121683 0.72405282 0.78511045 0.13121683 0.13121683\n",
      " 0.72405282 0.80093792 0.18752314 0.13121683 0.72405282 0.80093792\n",
      " 0.12896458 0.13121683 0.72405282 0.80322103 0.83928792 0.42555226\n",
      " 0.72405282 0.80093792 0.18076638 0.13121683 0.72405282 0.80093792\n",
      " 0.13121683 0.13121683 0.72405282 0.80093792 0.13121683 0.13121683\n",
      " 0.72405282 0.79411946 0.18752314 0.13121683 0.72405282 0.79411946\n",
      " 0.12896458 0.13121683 0.72405282 0.79411946 0.83928792 0.42555226\n",
      " 0.72405282 0.79411946 0.18076638 0.13121683 0.72405282 0.79411946\n",
      " 0.13121683 0.13121683 0.72405282 0.79411946 0.13121683 0.13121683\n",
      " 0.72405282 0.78511045 0.18752314 0.13121683 0.72405282 0.78511045\n",
      " 0.12896458 0.13121683 0.72405282 0.78051339 0.83478341 0.36446378\n",
      " 0.72405282 0.78511045 0.18076638 0.13121683 0.72405282 0.78511045\n",
      " 0.13121683 0.13121683 0.72405282 0.78511045 0.13121683 0.13121683\n",
      " 0.72405282 0.80093792 0.18752314 0.13121683 0.72405282 0.80093792\n",
      " 0.12896458 0.13121683 0.72405282 0.80093792 0.83478341 0.36446378\n",
      " 0.72405282 0.80093792 0.18076638 0.13121683 0.72405282 0.80093792\n",
      " 0.13121683 0.13121683 0.72405282 0.80093792 0.13121683 0.13121683\n",
      " 0.72405282 0.79411946 0.18752314 0.13121683 0.72405282 0.79411946\n",
      " 0.12896458 0.13121683 0.72405282 0.79411946 0.83478341 0.36446378\n",
      " 0.72405282 0.79411946 0.18076638 0.13121683 0.72405282 0.79411946\n",
      " 0.13121683 0.13121683 0.72405282 0.79411946 0.13121683 0.13121683\n",
      " 0.72405282 0.78511045 0.18752314 0.13121683 0.72405282 0.78511045\n",
      " 0.12896458 0.13121683 0.72405282 0.78054424 0.83024806 0.3463532\n",
      " 0.72405282 0.78511045 0.18076638 0.13121683 0.72405282 0.78511045\n",
      " 0.13121683 0.13121683 0.72405282 0.78511045 0.13121683 0.13121683\n",
      " 0.72405282 0.80093792 0.18752314 0.13121683 0.72405282 0.80093792\n",
      " 0.12896458 0.13121683 0.72405282 0.80093792 0.83024806 0.3463532\n",
      " 0.72405282 0.80093792 0.18076638 0.13121683 0.72405282 0.80093792\n",
      " 0.13121683 0.13121683 0.72405282 0.80093792 0.13121683 0.13121683\n",
      " 0.72405282 0.79411946 0.18752314 0.13121683 0.72405282 0.79411946\n",
      " 0.12896458 0.13121683 0.72405282 0.79411946 0.83024806 0.3463532\n",
      " 0.72405282 0.79411946 0.18076638 0.13121683 0.72405282 0.79411946\n",
      " 0.13121683 0.13121683 0.72405282 0.79411946 0.13121683 0.13121683\n",
      " 0.72405282 0.78511045 0.18752314 0.13121683 0.72405282 0.78511045\n",
      " 0.12896458 0.13121683 0.72405282 0.78054424 0.83024806 0.34622979\n",
      " 0.72405282 0.78511045 0.18076638 0.13121683 0.72405282 0.78511045\n",
      " 0.13121683 0.13121683 0.72405282 0.78511045 0.13121683 0.13121683\n",
      " 0.72405282 0.80093792 0.18752314 0.13121683 0.72405282 0.80093792\n",
      " 0.12896458 0.13121683 0.72405282 0.80093792 0.83024806 0.34622979\n",
      " 0.72405282 0.80093792 0.18076638 0.13121683 0.72405282 0.80093792\n",
      " 0.13121683 0.13121683 0.72405282 0.80093792 0.13121683 0.13121683\n",
      " 0.72405282 0.79411946 0.18752314 0.13121683 0.72405282 0.79411946\n",
      " 0.12896458 0.13121683 0.72405282 0.79411946 0.83024806 0.34622979\n",
      " 0.72405282 0.79411946 0.18076638 0.13121683 0.72405282 0.79411946\n",
      " 0.13121683 0.13121683 0.72405282 0.79411946 0.13121683 0.13121683]\n",
      "Combinazione migliore:\n",
      " {'C': 4, 'degree': 2, 'gamma': 'scale', 'kernel': 'rbf'}\n",
      "Accuratezza media della combinazione migliore: 0.839\n"
     ]
    }
   ],
   "source": [
    "clf = SVC()\n",
    "\n",
    "# Creazione della griglia di iperparametri\n",
    "param_grid = [{\n",
    "    'kernel': ['linear', 'poly', 'rbf', 'sigmoid'],\n",
    "    'C': [1,2,4,6,8,10],\n",
    "    'gamma': [0.05,0.025, 'scale', 'auto', 0.5, 0.25],\n",
    "    #\"random_state\": [98247589134],\n",
    "    #\"probability\": [True],\n",
    "    \"degree\": [2,3,4]\n",
    "}]\n",
    "\n",
    "# Numero di fold per la Cross-validation\n",
    "n_folds = 6\n",
    "\n",
    "# Creazione di un oggetto di tipo GridSearchCV\n",
    "grid_search_cv = GridSearchCV(clf, param_grid, cv=n_folds, n_jobs=-1)\n",
    "\n",
    "# Esecuzione della ricerca degli iperparametri \n",
    "grid_search_cv.fit(dataset_patterns, dataset_labels)\n",
    "\n",
    "# Stampa risultati\n",
    "print('Combinazioni di parametri:\\n', grid_search_cv.cv_results_['params'])\n",
    "print('Accuratezza media per combinazione:\\n', grid_search_cv.cv_results_['mean_test_score'])\n",
    "print('Combinazione migliore:\\n', grid_search_cv.best_params_)\n",
    "print('Accuratezza media della combinazione migliore: %.3f' % grid_search_cv.best_score_)\n"
   ]
  },
  {
   "cell_type": "code",
   "execution_count": 15,
   "id": "5751d5c3",
   "metadata": {},
   "outputs": [
    {
     "name": "stdout",
     "output_type": "stream",
     "text": [
      "Salvataggio delle prediction riuscito\n"
     ]
    }
   ],
   "source": [
    "result_path = 'Es3Predictions.txt'\n",
    "\n",
    "# Caricamento del dataset\n",
    "feature_count = 16\n",
    "test_path = 'DBs/PenDigits/pendigits_te.txt'\n",
    "\n",
    "test_x = ml_utilities.load_unlabeled_dataset_from_txt(test_path, feature_count)\n",
    "\n",
    "# Creazione del classificatore\n",
    "clf = SVC(**grid_search_cv.best_params_)\n",
    "\n",
    "# Addestramento del classificatore\n",
    "clf.fit(dataset_patterns, dataset_labels)\n",
    "\n",
    "# Calcolo delle prediction\n",
    "predictions = clf.predict(test_x)\n",
    "\n",
    "# Salvataggio delle prediction\n",
    "with open(result_path, \"w\") as f:\n",
    "    for prediction in predictions:\n",
    "        f.write(str(int(prediction)) + '\\n')\n",
    "print('Salvataggio delle prediction riuscito')"
   ]
  }
 ],
 "metadata": {
  "kernelspec": {
   "display_name": "Python 3 (ipykernel)",
   "language": "python",
   "name": "python3"
  },
  "language_info": {
   "codemirror_mode": {
    "name": "ipython",
    "version": 3
   },
   "file_extension": ".py",
   "mimetype": "text/x-python",
   "name": "python",
   "nbconvert_exporter": "python",
   "pygments_lexer": "ipython3",
   "version": "3.11.3"
  }
 },
 "nbformat": 4,
 "nbformat_minor": 5
}
